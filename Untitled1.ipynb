{
  "nbformat": 4,
  "nbformat_minor": 0,
  "metadata": {
    "colab": {
      "provenance": [],
      "authorship_tag": "ABX9TyOkrmAvPhXtwaLvys/IS/7Z",
      "include_colab_link": true
    },
    "kernelspec": {
      "name": "python3",
      "display_name": "Python 3"
    },
    "language_info": {
      "name": "python"
    }
  },
  "cells": [
    {
      "cell_type": "markdown",
      "metadata": {
        "id": "view-in-github",
        "colab_type": "text"
      },
      "source": [
        "<a href=\"https://colab.research.google.com/github/classical16/gomycode/blob/main/Untitled1.ipynb\" target=\"_parent\"><img src=\"https://colab.research.google.com/assets/colab-badge.svg\" alt=\"Open In Colab\"/></a>"
      ]
    },
    {
      "cell_type": "code",
      "execution_count": 10,
      "metadata": {
        "colab": {
          "base_uri": "https://localhost:8080/"
        },
        "id": "LvHS7s0mwsYf",
        "outputId": "8121da81-e2d7-4f58-f3e3-0afa16d2c06a"
      },
      "outputs": [
        {
          "name": "stdout",
          "output_type": "stream",
          "text": [
            "Enter the first number: 9\n",
            "Enter the second number: 9\n",
            "Available operations:\n",
            "add\n",
            "subtract\n",
            "multiply\n",
            "divide\n",
            "Choose an operation: add\n",
            "Result 18.0\n",
            "Do you want to continue the calculation? (yes/no): yes\n",
            "Do you want to start a new calculation? (yes/no): no\n",
            "Enter the second number: 7\n",
            "Available operations:\n",
            "add\n",
            "subtract\n",
            "multiply\n",
            "divide\n",
            "Choose an operation: subtract\n",
            "Result 11.0\n",
            "Do you want to continue the calculation? (yes/no): yes\n",
            "Do you want to start a new calculation? (yes/no): yes\n",
            "Enter the first number: 7\n",
            "Enter the second number: 3\n",
            "Available operations:\n",
            "add\n",
            "subtract\n",
            "multiply\n",
            "divide\n",
            "Choose an operation: multiply\n",
            "Result 21.0\n",
            "Do you want to continue the calculation? (yes/no): no\n"
          ]
        }
      ],
      "source": [
        "def add(x, y):\n",
        "    return x + y\n",
        "\n",
        "def subtract(x, y):\n",
        "    return x - y\n",
        "\n",
        "def multiply(x, y):\n",
        "    return x * y\n",
        "\n",
        "def divide (x, y):\n",
        "    if y != 0:\n",
        "        return x / y\n",
        "    else:\n",
        "        return \"cannot divide by zero\"\n",
        "\n",
        "operation ={\n",
        "      'add': add,\n",
        "      'subtract': subtract,\n",
        "      'multiply': multiply,\n",
        "      'divide': divide,\n",
        "  }\n",
        "def calculator():\n",
        "    num1 = float(input(\"Enter the first number\"))\n",
        "    return num1\n",
        "    first_number = calculator()\n",
        "    print(\"Available operations:\")\n",
        "    for operation in operations:\n",
        "      print(operation)\n",
        "\n",
        "should_continue = True\n",
        "new_calculation = True\n",
        "while should_continue:\n",
        "      if new_calculation:\n",
        "        num1 = float(input(\"Enter the first number: \"))\n",
        "      num2 = float(input(\"Enter the second number: \"))\n",
        "      print(\"Available operations:\")\n",
        "      for operators in operation:\n",
        "        print(operators)\n",
        "\n",
        "      selected_operation = input(\"Choose an operation: \")\n",
        "\n",
        "      calculation_function = operation[selected_operation]\n",
        "\n",
        "      answer = calculation_function(num1, num2)\n",
        "      print(\"Result\", answer)\n",
        "\n",
        "      choice = input(\"Do you want to continue the calculation? (yes/no): \")\n",
        "      if choice.lower() == 'yes':\n",
        "          new_calculation = input(\"Do you want to start a new calculation? (yes/no): \")\n",
        "          if new_calculation.lower() == 'no':\n",
        "            new_calculation=False\n",
        "            num1 = answer\n",
        "      else:\n",
        "        should_continue = False\n",
        "\n",
        "\n",
        "\n",
        ""
      ]
    },
    {
      "cell_type": "code",
      "source": [],
      "metadata": {
        "id": "DWR8hdr5K-iA"
      },
      "execution_count": null,
      "outputs": []
    }
  ]
}