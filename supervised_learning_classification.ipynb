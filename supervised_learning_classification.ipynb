{
  "nbformat": 4,
  "nbformat_minor": 0,
  "metadata": {
    "colab": {
      "provenance": [],
      "authorship_tag": "ABX9TyOzo5ijgH48vz5m+6rmO4Kd",
      "include_colab_link": true
    },
    "kernelspec": {
      "name": "python3",
      "display_name": "Python 3"
    },
    "language_info": {
      "name": "python"
    }
  },
  "cells": [
    {
      "cell_type": "markdown",
      "metadata": {
        "id": "view-in-github",
        "colab_type": "text"
      },
      "source": [
        "<a href=\"https://colab.research.google.com/github/classical16/gomycode/blob/main/supervised_learning_classification.ipynb\" target=\"_parent\"><img src=\"https://colab.research.google.com/assets/colab-badge.svg\" alt=\"Open In Colab\"/></a>"
      ]
    },
    {
      "cell_type": "code",
      "execution_count": null,
      "metadata": {
        "id": "ebqiwvMCkLm5"
      },
      "outputs": [],
      "source": [
        "import pandas as pd"
      ]
    },
    {
      "cell_type": "code",
      "source": [
        "data = pd.read_csv('/content/African_crises_dataset.csv')"
      ],
      "metadata": {
        "id": "zEJ3dJ5Qlvta"
      },
      "execution_count": null,
      "outputs": []
    },
    {
      "cell_type": "code",
      "source": [
        "print(data.head())\n",
        "print(data.describe())"
      ],
      "metadata": {
        "colab": {
          "base_uri": "https://localhost:8080/"
        },
        "id": "W2O4RKoEmaZk",
        "outputId": "4701ba0b-dd56-48a6-f1f5-e814462a6cf0"
      },
      "execution_count": null,
      "outputs": [
        {
          "output_type": "stream",
          "name": "stdout",
          "text": [
            "   country_number country_code  country  year  systemic_crisis  exch_usd  \\\n",
            "0               1          DZA  Algeria  1870                1  0.052264   \n",
            "1               1          DZA  Algeria  1871                0  0.052798   \n",
            "2               1          DZA  Algeria  1872                0  0.052274   \n",
            "3               1          DZA  Algeria  1873                0  0.051680   \n",
            "4               1          DZA  Algeria  1874                0  0.051308   \n",
            "\n",
            "   domestic_debt_in_default  sovereign_external_debt_default  \\\n",
            "0                         0                                0   \n",
            "1                         0                                0   \n",
            "2                         0                                0   \n",
            "3                         0                                0   \n",
            "4                         0                                0   \n",
            "\n",
            "   gdp_weighted_default  inflation_annual_cpi  independence  currency_crises  \\\n",
            "0                   0.0              3.441456             0                0   \n",
            "1                   0.0             14.149140             0                0   \n",
            "2                   0.0             -3.718593             0                0   \n",
            "3                   0.0             11.203897             0                0   \n",
            "4                   0.0             -3.848561             0                0   \n",
            "\n",
            "   inflation_crises banking_crisis  \n",
            "0                 0         crisis  \n",
            "1                 0      no_crisis  \n",
            "2                 0      no_crisis  \n",
            "3                 0      no_crisis  \n",
            "4                 0      no_crisis  \n",
            "       country_number         year  systemic_crisis     exch_usd  \\\n",
            "count     1059.000000  1059.000000      1059.000000  1059.000000   \n",
            "mean        35.613787  1967.767705         0.077432    43.140831   \n",
            "std         23.692402    33.530632         0.267401   111.475380   \n",
            "min          1.000000  1860.000000         0.000000     0.000000   \n",
            "25%         15.000000  1951.000000         0.000000     0.195350   \n",
            "50%         38.000000  1973.000000         0.000000     0.868400   \n",
            "75%         56.000000  1994.000000         0.000000     8.462750   \n",
            "max         70.000000  2014.000000         1.000000   744.306139   \n",
            "\n",
            "       domestic_debt_in_default  sovereign_external_debt_default  \\\n",
            "count               1059.000000                      1059.000000   \n",
            "mean                   0.039660                         0.152975   \n",
            "std                    0.195251                         0.360133   \n",
            "min                    0.000000                         0.000000   \n",
            "25%                    0.000000                         0.000000   \n",
            "50%                    0.000000                         0.000000   \n",
            "75%                    0.000000                         0.000000   \n",
            "max                    1.000000                         1.000000   \n",
            "\n",
            "       gdp_weighted_default  inflation_annual_cpi  independence  \\\n",
            "count           1059.000000          1.059000e+03   1059.000000   \n",
            "mean               0.006402          2.084889e+04      0.776204   \n",
            "std                0.043572          6.757274e+05      0.416984   \n",
            "min                0.000000         -2.850214e+01      0.000000   \n",
            "25%                0.000000          2.086162e+00      1.000000   \n",
            "50%                0.000000          5.762330e+00      1.000000   \n",
            "75%                0.000000          1.164405e+01      1.000000   \n",
            "max                0.400000          2.198970e+07      1.000000   \n",
            "\n",
            "       currency_crises  inflation_crises  \n",
            "count      1059.000000       1059.000000  \n",
            "mean          0.132200          0.129367  \n",
            "std           0.349847          0.335765  \n",
            "min           0.000000          0.000000  \n",
            "25%           0.000000          0.000000  \n",
            "50%           0.000000          0.000000  \n",
            "75%           0.000000          0.000000  \n",
            "max           2.000000          1.000000  \n"
          ]
        }
      ]
    },
    {
      "cell_type": "code",
      "source": [
        "print(data.isnull().sum())"
      ],
      "metadata": {
        "colab": {
          "base_uri": "https://localhost:8080/"
        },
        "id": "2212Jkg1mv1R",
        "outputId": "8b7d7f20-28a7-4a2e-fb07-010f9a4a72f6"
      },
      "execution_count": null,
      "outputs": [
        {
          "output_type": "stream",
          "name": "stdout",
          "text": [
            "country_number                     0\n",
            "country_code                       0\n",
            "country                            0\n",
            "year                               0\n",
            "systemic_crisis                    0\n",
            "exch_usd                           0\n",
            "domestic_debt_in_default           0\n",
            "sovereign_external_debt_default    0\n",
            "gdp_weighted_default               0\n",
            "inflation_annual_cpi               0\n",
            "independence                       0\n",
            "currency_crises                    0\n",
            "inflation_crises                   0\n",
            "banking_crisis                     0\n",
            "dtype: int64\n"
          ]
        }
      ]
    },
    {
      "cell_type": "code",
      "source": [
        "data.drop_duplicates(inplace=True)"
      ],
      "metadata": {
        "id": "R2quF6BenRxz"
      },
      "execution_count": null,
      "outputs": []
    }
  ]
}