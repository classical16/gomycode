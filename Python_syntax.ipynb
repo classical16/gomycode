{
  "nbformat": 4,
  "nbformat_minor": 0,
  "metadata": {
    "colab": {
      "provenance": [],
      "authorship_tag": "ABX9TyOoqw3Ixes7/Z7Wdk69pYrD",
      "include_colab_link": true
    },
    "kernelspec": {
      "name": "python3",
      "display_name": "Python 3"
    },
    "language_info": {
      "name": "python"
    }
  },
  "cells": [
    {
      "cell_type": "markdown",
      "metadata": {
        "id": "view-in-github",
        "colab_type": "text"
      },
      "source": [
        "<a href=\"https://colab.research.google.com/github/classical16/gomycode/blob/main/Python_syntax.ipynb\" target=\"_parent\"><img src=\"https://colab.research.google.com/assets/colab-badge.svg\" alt=\"Open In Colab\"/></a>"
      ]
    },
    {
      "cell_type": "code",
      "execution_count": 20,
      "metadata": {
        "colab": {
          "base_uri": "https://localhost:8080/"
        },
        "id": "tWjcL-xGvy7I",
        "outputId": "a1f50b24-0f23-4275-8d45-da737357b4d9"
      },
      "outputs": [
        {
          "name": "stdout",
          "output_type": "stream",
          "text": [
            "Welcome to Python Pizza Deliveries\n",
            "Enter the size of the pizza (Small,Medium,Large)Medium\n",
            "Do you want to add pepperoni?(Yes/No): Yes\n",
            "Do you want extra cheese?(Yes/No): Yes\n"
          ]
        }
      ],
      "source": [
        "\n",
        "print(\"Welcome to Python Pizza Deliveries\")\n",
        "size = input(\"Enter the size of the pizza (Small,Medium,Large)\")\n",
        "add_pepperoni = input (\"Do you want to add pepperoni?(Yes/No): \")\n",
        "extra_cheese = input(\"Do you want extra cheese?(Yes/No): \")"
      ]
    },
    {
      "cell_type": "code",
      "source": [
        "bill=0\n",
        "if size == \"Large\":\n",
        "  bill = bill + 25\n",
        "elif size == \"Small\":\n",
        "  bill = bill + 15\n",
        "elif size == \"Medium\":\n",
        "  bill = bill + 20\n",
        "if add_pepperoni == \"Yes\":\n",
        "  if size == \"Small\":\n",
        "    bill = bill + 2\n",
        "  else:\n",
        "    bill = bill + 3\n",
        "if extra_cheese == \"Yes\":\n",
        "  bill = bill + 1\n",
        "\n"
      ],
      "metadata": {
        "id": "aOmLkXujzGTa"
      },
      "execution_count": 27,
      "outputs": []
    },
    {
      "cell_type": "code",
      "source": [
        "print(bill)"
      ],
      "metadata": {
        "colab": {
          "base_uri": "https://localhost:8080/"
        },
        "id": "zgF8D7fhMW8A",
        "outputId": "5b846ac4-faa2-449f-fa56-bc58794d6f0e"
      },
      "execution_count": 28,
      "outputs": [
        {
          "output_type": "stream",
          "name": "stdout",
          "text": [
            "24\n"
          ]
        }
      ]
    },
    {
      "cell_type": "code",
      "source": [],
      "metadata": {
        "id": "aVkfWnYUN8Jl"
      },
      "execution_count": null,
      "outputs": []
    }
  ]
}