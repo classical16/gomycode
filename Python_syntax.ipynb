{
  "nbformat": 4,
  "nbformat_minor": 0,
  "metadata": {
    "colab": {
      "provenance": [],
      "authorship_tag": "ABX9TyPFuDt+FulEeL8UTUbJk0X0",
      "include_colab_link": true
    },
    "kernelspec": {
      "name": "python3",
      "display_name": "Python 3"
    },
    "language_info": {
      "name": "python"
    }
  },
  "cells": [
    {
      "cell_type": "markdown",
      "metadata": {
        "id": "view-in-github",
        "colab_type": "text"
      },
      "source": [
        "<a href=\"https://colab.research.google.com/github/classical16/gomycode/blob/main/Python_syntax.ipynb\" target=\"_parent\"><img src=\"https://colab.research.google.com/assets/colab-badge.svg\" alt=\"Open In Colab\"/></a>"
      ]
    },
    {
      "cell_type": "code",
      "execution_count": null,
      "metadata": {
        "colab": {
          "base_uri": "https://localhost:8080/"
        },
        "id": "tWjcL-xGvy7I",
        "outputId": "a659a0e2-d9d4-4b99-85a8-407f80f9c3ac"
      },
      "outputs": [
        {
          "name": "stdout",
          "output_type": "stream",
          "text": [
            "Welcome to Python Pizza Deliveries\n",
            "What size pizza do you want?(Small/Medium/Large): Large\n",
            "Do you want to add pepperoni?(Yes/No): Yes\n",
            "Do you want extra cheese?(Yes/No): No\n"
          ]
        }
      ],
      "source": [
        "print(\"Welcome to Python Pizza Deliveries\")\n",
        "size = input (\"What size pizza do you want?(Small/Medium/Large): \")\n",
        "add_pepperoni = input (\"Do you want to add pepperoni?(Yes/No): \")\n",
        "extra_cheese = input(\"Do you want extra cheese?(Yes/No): \")"
      ]
    },
    {
      "cell_type": "code",
      "source": [
        "bill=0\n",
        "if size == \"Large\":\n",
        "  bill = bill + 25\n",
        "elif size == \"Small\":\n",
        "  bill = bill + 15\n",
        "elif size == \"Medium\":\n",
        "  bill = bill + 20\n",
        "if pepperoni == \"Yes\":\n",
        "  if size == \"Small\"\n",
        "\n"
      ],
      "metadata": {
        "id": "aOmLkXujzGTa"
      },
      "execution_count": null,
      "outputs": []
    }
  ]
}