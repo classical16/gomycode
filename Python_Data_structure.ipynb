{
  "nbformat": 4,
  "nbformat_minor": 0,
  "metadata": {
    "colab": {
      "provenance": [],
      "authorship_tag": "ABX9TyPFjenPbuirqM/9l7NSkcEN",
      "include_colab_link": true
    },
    "kernelspec": {
      "name": "python3",
      "display_name": "Python 3"
    },
    "language_info": {
      "name": "python"
    }
  },
  "cells": [
    {
      "cell_type": "markdown",
      "metadata": {
        "id": "view-in-github",
        "colab_type": "text"
      },
      "source": [
        "<a href=\"https://colab.research.google.com/github/classical16/gomycode/blob/main/Python_Data_structure.ipynb\" target=\"_parent\"><img src=\"https://colab.research.google.com/assets/colab-badge.svg\" alt=\"Open In Colab\"/></a>"
      ]
    },
    {
      "cell_type": "markdown",
      "source": [],
      "metadata": {
        "id": "hm6lKi5PaWNx"
      }
    },
    {
      "cell_type": "markdown",
      "source": [
        "1.Create a list named 'shopping_list' to store the items.\n",
        "2.Use a while loop to create a menu of options for the user to add, remove, or view items from the list.\n",
        "3.Use the input() function to prompt the user to make a selection from the menu.\n",
        "4.Use an if-elif-else block to determine the user's selection and perform the corresponding action.\n",
        "5.If the user selects 'add', use the input() function to prompt the user to enter an item to add to the list. Use the range() function to limit the number of items that can be added to the list.\n",
        "6.If the user selects 'remove', use the input() function to prompt the user to enter an item to remove from the list.\n",
        "7.If the user selects 'view', use a for loop to iterate through the list of items and display them to the user.\n",
        "8Use the list, tuple, set, and dictionary data structures to store and manipulate the shopping items."
      ],
      "metadata": {
        "id": "p5YJHyAmahRP"
      }
    },
    {
      "cell_type": "code",
      "source": [
        "shopping_list = [\"Bread\",\"Eggs\",\"Apples\",\"Oranges\"]\n",
        "\n",
        "while True:\n",
        "    print(\"Menu:\")\n",
        "    print(\"1. Add item\")\n",
        "    print(\"2. Remove item\")\n",
        "    print(\"3. View shopping_list\")\n",
        "\n",
        "    choice = input(\"Enter your choice (1-3): \")\n",
        "    if choice == \"1\":\n",
        "        for i in range (3):\n",
        "          item = input (\"Enter the item to add:\")\n",
        "          shopping_list.append(item)\n",
        "\n",
        "    elif choice ==\"2\":\n",
        "        item = input(\"Enter the item to remove:\")\n",
        "        if item in shopping_list:\n",
        "          shopping_list.remove(item)\n",
        "          print (f\"{item}removed from shopping_list.\")\n",
        "\n",
        "\n",
        "    elif choice == \"3\":\n",
        "          if shopping_list:\n",
        "              for index in range(len(shopping_list)):\n",
        "                  print(f\"{index + 1}.{shopping_list[index]}\")\n",
        "          break\n",
        "    else:\n",
        "        print(\"Invalid choice. Please enter a number between 1-3.\")\n",
        "\n",
        "\n",
        ""
      ],
      "metadata": {
        "id": "okFwFWnagCyI",
        "colab": {
          "base_uri": "https://localhost:8080/"
        },
        "outputId": "10b4b37d-7543-4c32-ab75-e0db4db724e0"
      },
      "execution_count": 9,
      "outputs": [
        {
          "output_type": "stream",
          "name": "stdout",
          "text": [
            "Menu:\n",
            "1. Add item\n",
            "2. Remove item\n",
            "3. View shopping_list\n",
            "Enter your choice (1-3): 1\n",
            "Enter the item to add:Milk\n",
            "Enter the item to add:Rice\n",
            "Enter the item to add:Soap\n",
            "Menu:\n",
            "1. Add item\n",
            "2. Remove item\n",
            "3. View shopping_list\n",
            "Enter your choice (1-3): 2\n",
            "Enter the item to remove:Soap\n",
            "Soapremoved from shopping_list.\n",
            "Menu:\n",
            "1. Add item\n",
            "2. Remove item\n",
            "3. View shopping_list\n",
            "Enter your choice (1-3): 3\n",
            "1.Bread\n",
            "2.Eggs\n",
            "3.Apples\n",
            "4.Oranges\n",
            "5.Milk\n",
            "6.Rice\n"
          ]
        }
      ]
    },
    {
      "cell_type": "code",
      "source": [
        "shopping_set = set(shopping_list)\n",
        "quantity_dict = {item: 0 for item in shopping_list}\n",
        "sample_tuple = tuple(shopping_list)\n",
        "\n",
        "print(\"Shopping set:\", shopping_set)\n",
        "print(\"Quantity Dictionary:\", quantity_dict)\n",
        "print(\"Sample Tuple:\", sample_tuple)"
      ],
      "metadata": {
        "colab": {
          "base_uri": "https://localhost:8080/"
        },
        "id": "LFFSRX2Vnmy3",
        "outputId": "69eb7561-9eca-4dcc-ca3c-1fe056125af9"
      },
      "execution_count": 12,
      "outputs": [
        {
          "output_type": "stream",
          "name": "stdout",
          "text": [
            "Shopping set: {'Apples', 'Oranges', 'Bread', 'Milk', 'Eggs', 'Rice'}\n",
            "Quantity Dictionary: {'Bread': 0, 'Eggs': 0, 'Apples': 0, 'Oranges': 0, 'Milk': 0, 'Rice': 0}\n",
            "Sample Tuple: ('Bread', 'Eggs', 'Apples', 'Oranges', 'Milk', 'Rice')\n"
          ]
        }
      ]
    }
  ]
}