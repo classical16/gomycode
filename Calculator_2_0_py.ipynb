{
  "nbformat": 4,
  "nbformat_minor": 0,
  "metadata": {
    "colab": {
      "provenance": [],
      "authorship_tag": "ABX9TyPJm/cV1FfSpLulBmUutjKU",
      "include_colab_link": true
    },
    "kernelspec": {
      "name": "python3",
      "display_name": "Python 3"
    },
    "language_info": {
      "name": "python"
    }
  },
  "cells": [
    {
      "cell_type": "markdown",
      "metadata": {
        "id": "view-in-github",
        "colab_type": "text"
      },
      "source": [
        "<a href=\"https://colab.research.google.com/github/classical16/gomycode/blob/main/Calculator_2_0_py.ipynb\" target=\"_parent\"><img src=\"https://colab.research.google.com/assets/colab-badge.svg\" alt=\"Open In Colab\"/></a>"
      ]
    },
    {
      "cell_type": "markdown",
      "source": [],
      "metadata": {
        "id": "4RziSmufOvnh"
      }
    },
    {
      "cell_type": "code",
      "execution_count": 1,
      "metadata": {
        "id": "9sjhQ2WZijKM"
      },
      "outputs": [],
      "source": [
        "import math\n",
        "\n",
        "class Calculator:\n",
        "      def __init__(self):\n",
        "         self.operation = {}\n",
        "         self.init_operations()\n",
        "\n",
        "      def init_operations(self):\n",
        "          self.operations['add'] = self.add\n",
        "          self.operations['subtract'] = self.subtract\n",
        "          self.operations['multiply'] = self.multiply\n",
        "          self.operations['divide'] = self.divide\n",
        "          self.add_operation('power', self.power)\n",
        "          self.add_operation('sqrt', self.square_root)\n",
        "          self.add_operation('log', self.logarithm)\n",
        "\n",
        "      def add_operation(self, symbol, func):\n",
        "          self.operations[symbol] = func\n",
        "\n",
        "      def calculate(self, a, symbol, b):\n",
        "        if not isinstance(a, (int, float)) or not isinstance(b, (int, float)):\n",
        "          raise ValueError(\"Invalid values. Please provide valid numbers.\")\n",
        "\n",
        "        if symbol not in self.operations:\n",
        "           raise ValueError(\"Invalid symbol. Please use a valid operation.\")\n",
        "\n",
        "        return self.operations[symbol](a, b)\n",
        "\n",
        "      def add(self, a, b):\n",
        "          return a + b\n",
        "\n",
        "      def subtract(self, a, b):\n",
        "          return a - b\n",
        "\n",
        "      def multiply(self, a, b):\n",
        "          return a * b\n",
        "\n",
        "      def divide(self, a, b):\n",
        "          if b != 0:\n",
        "              return a / b\n",
        "          else:\n",
        "              raise ValueError( \"Cannot divide by zero\")\n",
        "\n",
        "      def power(self, a, b):\n",
        "        return a ** b\n",
        "\n",
        "      def square_root(self, a, b):\n",
        "        return math.sqrt(a)\n",
        "\n",
        "      def logarithm(self, a, b):\n",
        "         if a > 0 and b > 0:\n",
        "            return math.log(a, b)\n",
        "         else:\n",
        "             raise ValueError(\"Invalid input for logarithm\")\n",
        "\n",
        "\n"
      ]
    },
    {
      "cell_type": "code",
      "source": [
        "def main():\n",
        "   calculator = Calculator()\n",
        "\n",
        "   while True:\n",
        "        print(\"\\nAvailable operations:\")\n",
        "        print(\"1. Addition (add)\")\n",
        "        print(\"2. Subtraction (subtract)\")\n",
        "        print(\"3. Multiplication (multiply)\")\n",
        "        print(\"4. Division (divide)\")\n",
        "        print(\"5. Exponentiation (power)\")\n",
        "        print(\"6. Square root (sqrt)\")\n",
        "        print(\"7. Logarithm (log)\")\n",
        "        print(\"8. Exit\")\n",
        "\n",
        "        choice = input(\"Enter the operation number or 'exit' to exit\")\n",
        "\n",
        "        if choice.lower() == 'exit':\n",
        "          print(\"Exiting the calculator. Goodbye!\")\n",
        "          break\n",
        "\n",
        "        if choice.isdigit() and 1 <= int(choice) <= 7:\n",
        "           operation = list(calculator.operations.keys())[int(choice) - 1]\n",
        "           a = input(\"Enter the first number: \")\n",
        "           b = input(\"Enter the second number: \")\n",
        "\n",
        "           try:\n",
        "               result = calculator.calculate(a, operation , b)\n",
        "               print(f\"Result: {result}\")\n",
        "           except ValueError as e:\n",
        "               print(f\"Error: {e}\")\n",
        "        else:\n",
        "             print(\"Invalid choice. Please enter a valid operation number or 'exit'.\")\n",
        "\n",
        "        if __name__ == \"__main__\":\n",
        "             main()\n",
        "\n",
        "\n",
        "\n"
      ],
      "metadata": {
        "id": "Wx3TdAlf6MHC"
      },
      "execution_count": 2,
      "outputs": []
    }
  ]
}