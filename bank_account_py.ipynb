{
  "nbformat": 4,
  "nbformat_minor": 0,
  "metadata": {
    "colab": {
      "provenance": [],
      "authorship_tag": "ABX9TyNUOfLAmE/aaBD6cdNcRi/a",
      "include_colab_link": true
    },
    "kernelspec": {
      "name": "python3",
      "display_name": "Python 3"
    },
    "language_info": {
      "name": "python"
    }
  },
  "cells": [
    {
      "cell_type": "markdown",
      "metadata": {
        "id": "view-in-github",
        "colab_type": "text"
      },
      "source": [
        "<a href=\"https://colab.research.google.com/github/classical16/gomycode/blob/main/bank_account_py.ipynb\" target=\"_parent\"><img src=\"https://colab.research.google.com/assets/colab-badge.svg\" alt=\"Open In Colab\"/></a>"
      ]
    },
    {
      "cell_type": "code",
      "execution_count": 4,
      "metadata": {
        "id": "TlcDQpOc-zE2"
      },
      "outputs": [],
      "source": [
        "class Account:\n",
        "    used_account_number = []\n",
        "    def __init__(self,account_number, account_balance, account_holder):\n",
        "      if account_number in Account.used_account_number:\n",
        "          raise ValueError(\"Account number must be unique.\")\n",
        "      else:\n",
        "          Account.used_account_number.append(account_number)\n",
        "      self.account_number = account_number\n",
        "      self.account_balance = account_balance\n",
        "      self.account_holder = account_holder\n",
        "\n",
        "    def deposit(self,amount):\n",
        "        self.account_balance += amount\n",
        "\n",
        "    def withdrawal(self,amount):\n",
        "        if self.account_balance >= amount:\n",
        "           self.account_balance -= amount\n",
        "           print(f\"Withdrawal of {amount} succesful. Remaining balance: {self.account_balance}\")\n",
        "        else:\n",
        "           print(\"Insufficient funds for withdrawal.\")\n",
        "\n",
        "    def check_balance(self):\n",
        "        return self.account_balance\n",
        "\n",
        "\n",
        ""
      ]
    },
    {
      "cell_type": "code",
      "source": [
        "# Creating an account\n",
        "my_account = Account(account_balance=1000.0, account_number=\"778774\", account_holder=\"Richard Williams\")\n",
        "\n",
        "# Depositing 500.0\n",
        "my_account.deposit(500.0)\n",
        "\n",
        "# Checking the updated balance after deposit\n",
        "updated_balance_after_deposit = my_account.check_balance()\n",
        "print(f\"Updated balance after deposit: {updated_balance_after_deposit}\")\n",
        "\n",
        "# Attempting to withdraw 800.0 (sufficient balance)\n",
        "my_account.withdrawal(800.0)\n",
        "\n",
        "# Attempting to withdraw 1300.0 (insufficient balance)\n",
        "my_account.withdrawal(1300.0)\n",
        "\n",
        "# Checking the final balance\n",
        "final_balance = my_account.check_balance()\n",
        "print(f\"Final balance: {final_balance}\")\n",
        "\n",
        "\n",
        "\n"
      ],
      "metadata": {
        "colab": {
          "base_uri": "https://localhost:8080/"
        },
        "id": "tJTsRu0ihKIl",
        "outputId": "8a81f65e-9e9b-4bd5-8e2f-00aa6cb907c7"
      },
      "execution_count": 11,
      "outputs": [
        {
          "output_type": "stream",
          "name": "stdout",
          "text": [
            "Updated balance after deposit: 1500.0\n",
            "Withdrawal of 800.0 succesful. Remaining balance: 700.0\n",
            "Insufficient funds for withdrawal.\n",
            "Final balance: 700.0\n"
          ]
        }
      ]
    },
    {
      "cell_type": "code",
      "source": [
        "# Creating an account\n",
        "my_account = Account(\"782961172\", 2300.0, \"Anthony Davis\")\n",
        "\n",
        "# Attempting to withdrawal 2900.0 (insufficient balance)\n",
        "my_account.withdrawal(2900.0)\n",
        "\n",
        "# Depositing 870.0\n",
        "my_account.deposit(870.0)\n",
        "\n",
        "# Attempting to withdrawal 1600.0 (sufficient ballance)\n",
        "my_account.withdrawal(1600.0)\n",
        "\n",
        "# Checking the final balance\n",
        "final_balance = my_account.check_balance()\n",
        "print(f\"Final balance: {final_balance}\")\n"
      ],
      "metadata": {
        "colab": {
          "base_uri": "https://localhost:8080/"
        },
        "id": "IYW0AUg_ivLx",
        "outputId": "d8b9dc4e-21fc-476c-aaec-79c2ef87296a"
      },
      "execution_count": 13,
      "outputs": [
        {
          "output_type": "stream",
          "name": "stdout",
          "text": [
            "Insufficient funds for withdrawal.\n",
            "Withdrawal of 1600.0 succesful. Remaining balance: 1570.0\n",
            "Final balance: 1570.0\n"
          ]
        }
      ]
    },
    {
      "cell_type": "code",
      "source": [],
      "metadata": {
        "id": "ntz9a0Ggm-fP"
      },
      "execution_count": null,
      "outputs": []
    }
  ]
}