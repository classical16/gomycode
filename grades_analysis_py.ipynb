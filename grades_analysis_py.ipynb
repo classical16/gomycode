{
  "nbformat": 4,
  "nbformat_minor": 0,
  "metadata": {
    "colab": {
      "provenance": [],
      "authorship_tag": "ABX9TyPnpbKw4GbL3CZrltb2fJFB",
      "include_colab_link": true
    },
    "kernelspec": {
      "name": "python3",
      "display_name": "Python 3"
    },
    "language_info": {
      "name": "python"
    }
  },
  "cells": [
    {
      "cell_type": "markdown",
      "metadata": {
        "id": "view-in-github",
        "colab_type": "text"
      },
      "source": [
        "<a href=\"https://colab.research.google.com/github/classical16/gomycode/blob/main/grades_analysis_py.ipynb\" target=\"_parent\"><img src=\"https://colab.research.google.com/assets/colab-badge.svg\" alt=\"Open In Colab\"/></a>"
      ]
    },
    {
      "cell_type": "code",
      "execution_count": 1,
      "metadata": {
        "id": "X1hC4ZNSoQCl"
      },
      "outputs": [],
      "source": [
        "import numpy as np\n",
        "\n",
        "grades = np.array([85,90,88,92,95,80,75,98,89,83])\n",
        "\n"
      ]
    },
    {
      "cell_type": "code",
      "source": [
        "# calculate the mean, median, and standard deviation of the grades.\n",
        "mean_grade = np.mean(grades)\n",
        "median_grade = np.median(grades)\n",
        "std_deviation = np.std(grades)\n",
        "\n",
        "print(\"Mean:\", mean_grade)\n",
        "print(\"Median:\", median_grade)\n",
        "print(\"Standard Deviation:\", std_deviation)"
      ],
      "metadata": {
        "colab": {
          "base_uri": "https://localhost:8080/"
        },
        "id": "19jg4bUtJI3H",
        "outputId": "50432d0b-a80f-4ea6-847e-3da990923566"
      },
      "execution_count": 2,
      "outputs": [
        {
          "output_type": "stream",
          "name": "stdout",
          "text": [
            "Mean: 87.5\n",
            "Median: 88.5\n",
            "Standard Deviation: 6.591661399070799\n"
          ]
        }
      ]
    },
    {
      "cell_type": "code",
      "source": [
        "# find the maximum and minimum of the grades.\n",
        "max_grade = np.max(grades)\n",
        "min_grade = np.min(grades)\n",
        "\n",
        "print(\"Maximun Grade:\", max_grade)\n",
        "print(\"Minimum Grade:\", min_grade)"
      ],
      "metadata": {
        "colab": {
          "base_uri": "https://localhost:8080/"
        },
        "id": "sRaS_nOhC9nh",
        "outputId": "1eb49434-3b13-4844-b79c-4cebdadc9ac6"
      },
      "execution_count": 3,
      "outputs": [
        {
          "output_type": "stream",
          "name": "stdout",
          "text": [
            "Maximun Grade: 98\n",
            "Minimum Grade: 75\n"
          ]
        }
      ]
    },
    {
      "cell_type": "code",
      "source": [
        "# sort the grades in ascending order.\n",
        "sorted_grades = np.sort(grades)\n",
        "\n",
        "print(\"Sorted Grades (Ascending order):\", sorted_grades)"
      ],
      "metadata": {
        "colab": {
          "base_uri": "https://localhost:8080/"
        },
        "id": "tkjj9PMPDDCA",
        "outputId": "145a2161-aab6-4b6d-ba1f-70fd44aad820"
      },
      "execution_count": 4,
      "outputs": [
        {
          "output_type": "stream",
          "name": "stdout",
          "text": [
            "Sorted Grades (Ascending order): [75 80 83 85 88 89 90 92 95 98]\n"
          ]
        }
      ]
    },
    {
      "cell_type": "code",
      "source": [
        "# find the index of the highest grade in the array.\n",
        "index_of_highest_grade = np.argmax(grades)\n",
        "\n",
        "print(\"Indes of the Highest Grade:\", index_of_highest_grade)\n"
      ],
      "metadata": {
        "colab": {
          "base_uri": "https://localhost:8080/"
        },
        "id": "ydAO7upYDdyb",
        "outputId": "9bfd04bc-c929-4065-fdcf-0f005a08bb30"
      },
      "execution_count": 5,
      "outputs": [
        {
          "output_type": "stream",
          "name": "stdout",
          "text": [
            "Indes of the Highest Grade: 7\n"
          ]
        }
      ]
    },
    {
      "cell_type": "code",
      "source": [
        "# count the number of students who scored above 90.\n",
        "above_90_count = np.count_nonzero(grades > 90)\n",
        "\n",
        "print(\"Number of Student with Scores Above 90:\", above_90_count)"
      ],
      "metadata": {
        "colab": {
          "base_uri": "https://localhost:8080/"
        },
        "id": "6XFI9AUIEZuE",
        "outputId": "10f3777e-37c9-4dac-f408-21bd47052840"
      },
      "execution_count": 6,
      "outputs": [
        {
          "output_type": "stream",
          "name": "stdout",
          "text": [
            "Number of Student with Scores Above 90: 3\n"
          ]
        }
      ]
    },
    {
      "cell_type": "code",
      "source": [
        "# Percentage of student who scored above 90\n",
        "total_students = len(grades)\n",
        "\n",
        "above_90_count = (above_90_count / total_students) * 100\n",
        "\n",
        "print(\"Percentage of Students with scores above 90:\", above_90_count)\n"
      ],
      "metadata": {
        "colab": {
          "base_uri": "https://localhost:8080/"
        },
        "id": "AGXBvJVqFFIg",
        "outputId": "63c4934d-c17f-419a-dc58-611a5824fbdf"
      },
      "execution_count": 7,
      "outputs": [
        {
          "output_type": "stream",
          "name": "stdout",
          "text": [
            "Percentage of Students with scores above 90: 30.0\n"
          ]
        }
      ]
    },
    {
      "cell_type": "code",
      "source": [
        "# calculate the percentage of students who scored below 75.\n",
        "below_75_count = np.count_nonzero(grades < 75)\n",
        "total_students = len(grades)\n",
        "\n",
        "percentage_below_75 = (below_75_count / total_students)* 100\n",
        "\n",
        "print(\"Percentage of Student with Scores Below 75:\", percentage_below_75)\n"
      ],
      "metadata": {
        "colab": {
          "base_uri": "https://localhost:8080/"
        },
        "id": "V-k-7lWaFPcK",
        "outputId": "bd71293f-6c2d-4cd6-b0b5-fe1d21bb6646"
      },
      "execution_count": 8,
      "outputs": [
        {
          "output_type": "stream",
          "name": "stdout",
          "text": [
            "Percentage of Student with Scores Below 75: 0.0\n"
          ]
        }
      ]
    },
    {
      "cell_type": "code",
      "source": [
        "#extract all the grades above 90 and put them in a new array called \"high_performers\".\n",
        "high_performers = grades[grades > 90]\n",
        "\n",
        "print(\"High Performers:\", high_performers)"
      ],
      "metadata": {
        "colab": {
          "base_uri": "https://localhost:8080/"
        },
        "id": "E-R_vo7yFXbq",
        "outputId": "ae4144e4-0b63-4ca7-84bd-0bc72e46ba1d"
      },
      "execution_count": 9,
      "outputs": [
        {
          "output_type": "stream",
          "name": "stdout",
          "text": [
            "High Performers: [92 95 98]\n"
          ]
        }
      ]
    },
    {
      "cell_type": "code",
      "source": [
        "# Create a new array called \"passing_grades\" that contains all the grades above 75.\n",
        "passing_grades = grades[grades > 75]\n",
        "\n",
        "print(\"Passing Grades:\", passing_grades)"
      ],
      "metadata": {
        "colab": {
          "base_uri": "https://localhost:8080/"
        },
        "id": "e_rQ22YxFiPW",
        "outputId": "495f3d24-7aa4-4c05-ee43-bdf2aae9ed7b"
      },
      "execution_count": 10,
      "outputs": [
        {
          "output_type": "stream",
          "name": "stdout",
          "text": [
            "Passing Grades: [85 90 88 92 95 80 98 89 83]\n"
          ]
        }
      ]
    }
  ]
}